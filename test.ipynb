{
 "cells": [
  {
   "cell_type": "code",
   "execution_count": 1,
   "metadata": {},
   "outputs": [
    {
     "name": "stdout",
     "output_type": "stream",
     "text": [
      "[[12.6     1.0708 23.     ... 32.     27.4    17.1   ]\n",
      " [ 6.9     1.0853 22.     ... 30.5    28.9    18.2   ]\n",
      " [24.6     1.0414 22.     ... 28.8    25.2    16.6   ]\n",
      " ...\n",
      " [28.3     1.0328 72.     ... 31.3    27.2    18.    ]\n",
      " [25.3     1.0399 72.     ... 30.5    29.4    19.8   ]\n",
      " [30.7     1.0271 74.     ... 33.7    30.     20.9   ]]\n"
     ]
    },
    {
     "data": {
      "text/plain": [
       "(252, 16)"
      ]
     },
     "execution_count": 1,
     "metadata": {},
     "output_type": "execute_result"
    }
   ],
   "source": [
    "from regression import *\n",
    "dataset = get_dataset(\"bodyfat.csv\")\n",
    "print(dataset)\n",
    "dataset.shape"
   ]
  },
  {
   "cell_type": "code",
   "execution_count": 2,
   "metadata": {},
   "outputs": [
    {
     "name": "stdout",
     "output_type": "stream",
     "text": [
      "252\n",
      "1.06\n",
      "0.02\n"
     ]
    }
   ],
   "source": [
    "print_stats(dataset,1)"
   ]
  },
  {
   "cell_type": "code",
   "execution_count": 3,
   "metadata": {},
   "outputs": [
    {
     "data": {
      "text/plain": [
       "418.5038492063491"
      ]
     },
     "execution_count": 3,
     "metadata": {},
     "output_type": "execute_result"
    }
   ],
   "source": [
    "regression(dataset, cols=[2,3], betas=[0,0,0])"
   ]
  },
  {
   "cell_type": "code",
   "execution_count": 4,
   "metadata": {},
   "outputs": [
    {
     "data": {
      "text/plain": [
       "11859.174086111107"
      ]
     },
     "execution_count": 4,
     "metadata": {},
     "output_type": "execute_result"
    }
   ],
   "source": [
    "regression(dataset, cols=[2,3,4], betas=[0,-1.1,-.2,3])"
   ]
  },
  {
   "cell_type": "code",
   "execution_count": 5,
   "metadata": {},
   "outputs": [
    {
     "data": {
      "text/plain": [
       "array([  -37.87698413, -1756.37222222, -7055.35138889])"
      ]
     },
     "execution_count": 5,
     "metadata": {},
     "output_type": "execute_result"
    }
   ],
   "source": [
    "gradient_descent(dataset, cols=[2,3], betas=[0,0,0])"
   ]
  },
  {
   "cell_type": "code",
   "execution_count": 6,
   "metadata": {},
   "outputs": [
    {
     "data": {
      "text/plain": [
       "779131629.7915246"
      ]
     },
     "execution_count": 6,
     "metadata": {},
     "output_type": "execute_result"
    }
   ],
   "source": [
    "regression(dataset, cols=[1,8], betas=[400,-400,300])"
   ]
  },
  {
   "cell_type": "code",
   "execution_count": 7,
   "metadata": {},
   "outputs": [
    {
     "name": "stdout",
     "output_type": "stream",
     "text": [
      "1 423085332.40394.45-405.84-220.18\n",
      "\n",
      "2 229744495.73398.54-401.54163.14\n",
      "\n",
      "3 124756241.68395.53-404.71-119.33\n",
      "\n",
      "4 67745350.04397.75-402.3788.82\n",
      "\n",
      "5 36787203.39396.11-404.09-64.57\n",
      "\n",
      "6 19976260.50397.32-402.8248.47\n",
      "\n",
      "7 10847555.07396.43-403.76-34.83\n",
      "\n",
      "8 5890470.68397.09-403.0726.55\n",
      "\n",
      "9 3198666.69396.60-403.58-18.68\n",
      "\n",
      "10 1736958.93396.96-403.2014.65\n",
      "\n"
     ]
    }
   ],
   "source": [
    "iterate_gradient(dataset, cols=[1,8], betas=[400,-400,300], T=10, eta=1e-4)"
   ]
  },
  {
   "cell_type": "code",
   "execution_count": 8,
   "metadata": {},
   "outputs": [
    {
     "name": "stdout",
     "output_type": "stream",
     "text": [
      "(2, 252)\n"
     ]
    }
   ],
   "source": [
    "tr = dataset[:,0]\n",
    "# print(tr.T)\n",
    "tr1 = dataset[:,1]\n",
    "trap = []\n",
    "trap.append(tr)\n",
    "# trap.append(tr.T)\n",
    "trap.append(tr1)\n",
    "print(np.shape(trap))\n"
   ]
  },
  {
   "cell_type": "code",
   "execution_count": 9,
   "metadata": {},
   "outputs": [
    {
     "name": "stdout",
     "output_type": "stream",
     "text": [
      "[[1, 2, 3], [4, 5, 6]]\n",
      "(3,)\n"
     ]
    }
   ],
   "source": [
    "a = [1,2,3]\n",
    "b = [4,5,6]\n",
    "c = []\n",
    "c.append(a)\n",
    "c.append(b)\n",
    "print(c)\n",
    "print(np.shape(np.ones([3])))"
   ]
  },
  {
   "cell_type": "code",
   "execution_count": 10,
   "metadata": {},
   "outputs": [
    {
     "data": {
      "text/plain": [
       "(1.4029395600144445,\n",
       " 441.35259438325534,\n",
       " -400.5954953908411,\n",
       " 0.009892204815036106)"
      ]
     },
     "execution_count": 10,
     "metadata": {},
     "output_type": "execute_result"
    }
   ],
   "source": [
    "compute_betas(dataset, cols=[1,2])"
   ]
  },
  {
   "cell_type": "code",
   "execution_count": 11,
   "metadata": {},
   "outputs": [
    {
     "data": {
      "text/plain": [
       "1.4029395600144423"
      ]
     },
     "execution_count": 11,
     "metadata": {},
     "output_type": "execute_result"
    }
   ],
   "source": [
    "regression(dataset, cols=[1,2], betas=[4.41352594e+02, -4.00595495e+02, 9.89220482e-03])"
   ]
  },
  {
   "cell_type": "code",
   "execution_count": 12,
   "metadata": {},
   "outputs": [
    {
     "data": {
      "text/plain": [
       "12.622458629488529"
      ]
     },
     "execution_count": 12,
     "metadata": {},
     "output_type": "execute_result"
    }
   ],
   "source": [
    "predict(dataset, cols=[1,2], features=[1.0708, 23])"
   ]
  },
  {
   "cell_type": "code",
   "execution_count": 13,
   "metadata": {},
   "outputs": [
    {
     "data": {
      "text/plain": [
       "(array([[7.83547359, 4.        ]]), array([[16.04321926,  4.        ]]))"
      ]
     },
     "execution_count": 13,
     "metadata": {},
     "output_type": "execute_result"
    }
   ],
   "source": [
    "synthetic_datasets(np.array([0,2]), np.array([0,1]), np.array([[4]]), 1)"
   ]
  },
  {
   "cell_type": "code",
   "execution_count": 14,
   "metadata": {},
   "outputs": [
    {
     "name": "stdout",
     "output_type": "stream",
     "text": [
      "10\n"
     ]
    }
   ],
   "source": [
    "sigmas = np.array([0.0001,0.001,0.01,0.1,1,10,100,1000,10000,100000])\n",
    "print(len(sigmas))"
   ]
  },
  {
   "cell_type": "code",
   "execution_count": 15,
   "metadata": {},
   "outputs": [
    {
     "data": {
      "image/png": "[encoded data removed]",
      "text/plain": [
       "<Figure size 432x288 with 1 Axes>"
      ]
     },
     "metadata": {
      "needs_background": "light"
     },
     "output_type": "display_data"
    }
   ],
   "source": [
    "plot_mse()"
   ]
  }
 ],
 "metadata": {
  "interpreter": {
   "hash": "d8238f317c75f2772202101219d1bc561224774ccdf5daeb1c652a83710b959e"
  },
  "kernelspec": {
   "display_name": "Python 3.9.7 64-bit",
   "name": "python3"
  },
  "language_info": {
   "codemirror_mode": {
    "name": "ipython",
    "version": 3
   },
   "file_extension": ".py",
   "mimetype": "text/x-python",
   "name": "python",
   "nbconvert_exporter": "python",
   "pygments_lexer": "ipython3",
   "version": "3.9.7"
  },
  "orig_nbformat": 4
 },
 "nbformat": 4,
 "nbformat_minor": 2
}
